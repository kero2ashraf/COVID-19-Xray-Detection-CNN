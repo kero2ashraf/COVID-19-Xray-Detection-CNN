{
 "cells": [
  {
   "cell_type": "code",
   "execution_count": 2,
   "id": "4af33f57",
   "metadata": {
    "ExecuteTime": {
     "end_time": "2023-09-09T21:07:24.302575Z",
     "start_time": "2023-09-09T21:07:23.827806Z"
    }
   },
   "outputs": [],
   "source": [
    "import numpy as np \n",
    "import pandas as pd \n",
    "import matplotlib.pyplot as plt \n",
    "import seaborn as sns \n",
    "import os\n",
    "import PIL\n",
    "import tensorflow as tf \n",
    "from tensorflow.keras.preprocessing.image import ImageDataGenerator\n",
    "from tensorflow.keras.callbacks import EarlyStopping,ReduceLROnPlateau\n",
    "from tensorflow.keras.models import Sequential\n",
    "from tensorflow.keras.layers import Dense,Flatten,MaxPooling2D,Conv2D,Dropout,Activation,BatchNormalization\n",
    "from tensorflow.keras.preprocessing import image\n",
    "from sklearn.metrics import classification_report,confusion_matrix\n",
    "os.environ['TF_CPP_MIN_LOG_LEVEL'] = '3' \n",
    "import warnings \n",
    "warnings.filterwarnings('ignore')"
   ]
  },
  {
   "cell_type": "code",
   "execution_count": 3,
   "id": "0b96fa5b",
   "metadata": {
    "ExecuteTime": {
     "end_time": "2023-09-09T21:08:55.019730Z",
     "start_time": "2023-09-09T21:08:54.983828Z"
    }
   },
   "outputs": [
    {
     "data": {
      "text/plain": [
       "['NORMAL', 'PNEUMONIA']"
      ]
     },
     "execution_count": 3,
     "metadata": {},
     "output_type": "execute_result"
    }
   ],
   "source": [
    "train_dir = (r\"C:\\Users\\dell\\OneDrive\\Desktop\\Data analytics files\\xray_dataset_covid19\\train\")\n",
    "test_dir = (r\"C:\\Users\\dell\\OneDrive\\Desktop\\Data analytics files\\xray_dataset_covid19\\test\")\n",
    "classes_train = os.listdir(train_dir)\n",
    "classes_test = os.listdir(test_dir)\n",
    "\n",
    "classes_train"
   ]
  },
  {
   "cell_type": "code",
   "execution_count": 8,
   "id": "90db5ecf",
   "metadata": {
    "ExecuteTime": {
     "end_time": "2023-09-09T21:19:00.345272Z",
     "start_time": "2023-09-09T21:19:00.256511Z"
    }
   },
   "outputs": [
    {
     "name": "stdout",
     "output_type": "stream",
     "text": [
      "Found 148 images belonging to 2 classes.\n",
      "Found 40 images belonging to 2 classes.\n"
     ]
    }
   ],
   "source": [
    "train_datagen = ImageDataGenerator(#zoom_range=0.2, #the amount of zooming u need\n",
    "    horizontal_flip=True, # Make a horizontal copy of image\n",
    "    rescale=1/255, # Normalize the new images\n",
    "    width_shift_range=0.10, # The percentage of Width shifitning\n",
    "    height_shift_range=0.10, # The percentage of height shifitning\n",
    "    shear_range=0.1, #Shear angle in counter-clockwise direction in degrees\n",
    "    fill_mode='nearest',\n",
    "    rotation_range=20, \n",
    ")\n",
    "\n",
    "train_gen = train_datagen.flow_from_directory(\n",
    "    train_dir,\n",
    "    class_mode='binary',\n",
    "    color_mode='rgb',\n",
    "    batch_size= 16,\n",
    "    target_size=(1000,1000,3)[:2]\n",
    ")\n",
    "\n",
    "\n",
    "test_datagen=ImageDataGenerator(rescale=1/255)\n",
    "test_generator=test_datagen.flow_from_directory(\n",
    "    test_dir,\n",
    "    class_mode='binary',\n",
    "    color_mode='rgb',\n",
    "    batch_size=16,\n",
    "    target_size=(1000,1000,3)[:2]\n",
    ")"
   ]
  },
  {
   "cell_type": "code",
   "execution_count": 29,
   "id": "e3cc9e2e",
   "metadata": {
    "ExecuteTime": {
     "end_time": "2023-09-09T22:03:23.004565Z",
     "start_time": "2023-09-09T22:03:22.995589Z"
    }
   },
   "outputs": [],
   "source": [
    "earlystop = EarlyStopping(patience=6)\n",
    "learning_rate_reduction = ReduceLROnPlateau(\n",
    "    monitor='val_accuracy',\n",
    "    patience= 3,\n",
    "    verbose=1,\n",
    "    factor=0.5,\n",
    "    min_lr=0.00001\n",
    ")\n",
    "\n",
    "callbacks = [earlystop,learning_rate_reduction]"
   ]
  },
  {
   "cell_type": "markdown",
   "id": "f56376c5",
   "metadata": {},
   "source": [
    "CNN"
   ]
  },
  {
   "cell_type": "code",
   "execution_count": 30,
   "id": "b24d8235",
   "metadata": {
    "ExecuteTime": {
     "end_time": "2023-09-09T22:03:24.686068Z",
     "start_time": "2023-09-09T22:03:24.115594Z"
    }
   },
   "outputs": [],
   "source": [
    "model = Sequential()\n",
    "\n",
    "model.add(Conv2D(32,(2,2),activation=\"relu\",input_shape=(1000,1000,3)))\n",
    "model.add(MaxPooling2D(2,2))\n",
    "\n",
    "model.add(Conv2D(64,(2,2),activation='relu'))\n",
    "model.add(MaxPooling2D(3,3))\n",
    "\n",
    "model.add(Conv2D(64,(3,3),activation='relu'))\n",
    "model.add(MaxPooling2D(3,3))\n",
    "\n",
    "model.add(Flatten())\n",
    "model.add(Dropout(0.3))\n",
    "model.add(Dense(128,activation='relu'))\n",
    "\n",
    "model.add(Dropout(0.4))\n",
    "model.add(Dense(1,activation='sigmoid'))\n",
    "\n",
    "model.compile(optimizer='adam' ,loss='binary_crossentropy',metrics=['accuracy'])"
   ]
  },
  {
   "cell_type": "code",
   "execution_count": 31,
   "id": "5babb2a3",
   "metadata": {
    "ExecuteTime": {
     "end_time": "2023-09-09T22:03:24.749902Z",
     "start_time": "2023-09-09T22:03:24.690059Z"
    }
   },
   "outputs": [
    {
     "name": "stdout",
     "output_type": "stream",
     "text": [
      "Model: \"sequential_2\"\n",
      "_________________________________________________________________\n",
      " Layer (type)                Output Shape              Param #   \n",
      "=================================================================\n",
      " conv2d_6 (Conv2D)           (None, 999, 999, 32)      416       \n",
      "                                                                 \n",
      " max_pooling2d_6 (MaxPoolin  (None, 499, 499, 32)      0         \n",
      " g2D)                                                            \n",
      "                                                                 \n",
      " conv2d_7 (Conv2D)           (None, 498, 498, 64)      8256      \n",
      "                                                                 \n",
      " max_pooling2d_7 (MaxPoolin  (None, 166, 166, 64)      0         \n",
      " g2D)                                                            \n",
      "                                                                 \n",
      " conv2d_8 (Conv2D)           (None, 164, 164, 64)      36928     \n",
      "                                                                 \n",
      " max_pooling2d_8 (MaxPoolin  (None, 54, 54, 64)        0         \n",
      " g2D)                                                            \n",
      "                                                                 \n",
      " flatten_2 (Flatten)         (None, 186624)            0         \n",
      "                                                                 \n",
      " dropout_4 (Dropout)         (None, 186624)            0         \n",
      "                                                                 \n",
      " dense_4 (Dense)             (None, 128)               23888000  \n",
      "                                                                 \n",
      " dropout_5 (Dropout)         (None, 128)               0         \n",
      "                                                                 \n",
      " dense_5 (Dense)             (None, 1)                 129       \n",
      "                                                                 \n",
      "=================================================================\n",
      "Total params: 23933729 (91.30 MB)\n",
      "Trainable params: 23933729 (91.30 MB)\n",
      "Non-trainable params: 0 (0.00 Byte)\n",
      "_________________________________________________________________\n"
     ]
    }
   ],
   "source": [
    "model.summary()"
   ]
  },
  {
   "cell_type": "code",
   "execution_count": 32,
   "id": "0186126f",
   "metadata": {
    "ExecuteTime": {
     "end_time": "2023-09-09T22:25:42.888815Z",
     "start_time": "2023-09-09T22:03:25.295439Z"
    }
   },
   "outputs": [
    {
     "name": "stdout",
     "output_type": "stream",
     "text": [
      "Epoch 1/10\n",
      "10/10 [==============================] - 137s 13s/step - loss: 1.1123 - accuracy: 0.6014 - val_loss: 0.6307 - val_accuracy: 0.9500 - lr: 0.0010\n",
      "Epoch 2/10\n",
      "10/10 [==============================] - 131s 12s/step - loss: 0.5886 - accuracy: 0.6757 - val_loss: 0.3484 - val_accuracy: 0.8750 - lr: 0.0010\n",
      "Epoch 3/10\n",
      "10/10 [==============================] - 132s 13s/step - loss: 0.4586 - accuracy: 0.8041 - val_loss: 0.0668 - val_accuracy: 0.9750 - lr: 0.0010\n",
      "Epoch 4/10\n",
      "10/10 [==============================] - 131s 13s/step - loss: 0.3097 - accuracy: 0.8851 - val_loss: 0.1099 - val_accuracy: 0.9750 - lr: 0.0010\n",
      "Epoch 5/10\n",
      "10/10 [==============================] - 129s 12s/step - loss: 0.2504 - accuracy: 0.9054 - val_loss: 0.1185 - val_accuracy: 0.9750 - lr: 0.0010\n",
      "Epoch 6/10\n",
      "10/10 [==============================] - ETA: 0s - loss: 0.3590 - accuracy: 0.8581 \n",
      "Epoch 6: ReduceLROnPlateau reducing learning rate to 0.0005000000237487257.\n",
      "10/10 [==============================] - 132s 13s/step - loss: 0.3590 - accuracy: 0.8581 - val_loss: 0.0745 - val_accuracy: 0.9750 - lr: 0.0010\n",
      "Epoch 7/10\n",
      "10/10 [==============================] - 132s 13s/step - loss: 0.3952 - accuracy: 0.8446 - val_loss: 0.0453 - val_accuracy: 1.0000 - lr: 5.0000e-04\n",
      "Epoch 8/10\n",
      "10/10 [==============================] - 133s 13s/step - loss: 0.2952 - accuracy: 0.8649 - val_loss: 0.0466 - val_accuracy: 0.9750 - lr: 5.0000e-04\n",
      "Epoch 9/10\n",
      "10/10 [==============================] - 137s 13s/step - loss: 0.2278 - accuracy: 0.9257 - val_loss: 0.0500 - val_accuracy: 0.9750 - lr: 5.0000e-04\n",
      "Epoch 10/10\n",
      "10/10 [==============================] - ETA: 0s - loss: 0.2298 - accuracy: 0.8986 \n",
      "Epoch 10: ReduceLROnPlateau reducing learning rate to 0.0002500000118743628.\n",
      "10/10 [==============================] - 136s 13s/step - loss: 0.2298 - accuracy: 0.8986 - val_loss: 0.0599 - val_accuracy: 0.9750 - lr: 5.0000e-04\n"
     ]
    },
    {
     "data": {
      "text/plain": [
       "<keras.src.callbacks.History at 0x18c22ebe160>"
      ]
     },
     "execution_count": 32,
     "metadata": {},
     "output_type": "execute_result"
    }
   ],
   "source": [
    "model.fit(train_gen, \n",
    "    epochs=10,\n",
    "    validation_data=test_generator,\n",
    "    callbacks=callbacks)"
   ]
  },
  {
   "cell_type": "code",
   "execution_count": 33,
   "id": "ee3b90a7",
   "metadata": {
    "ExecuteTime": {
     "end_time": "2023-09-09T22:25:56.716839Z",
     "start_time": "2023-09-09T22:25:56.308929Z"
    }
   },
   "outputs": [
    {
     "data": {
      "text/plain": [
       "<Axes: >"
      ]
     },
     "execution_count": 33,
     "metadata": {},
     "output_type": "execute_result"
    },
    {
     "data": {
      "image/png": "[encoded data removed]",
      "text/plain": [
       "<Figure size 432x288 with 1 Axes>"
      ]
     },
     "metadata": {
      "needs_background": "light"
     },
     "output_type": "display_data"
    }
   ],
   "source": [
    "losses = pd.DataFrame(model.history.history)\n",
    "losses[[\"accuracy\",\"val_accuracy\"]].plot()"
   ]
  },
  {
   "cell_type": "code",
   "execution_count": 34,
   "id": "7bb68d7b",
   "metadata": {
    "ExecuteTime": {
     "end_time": "2023-09-09T22:25:58.448209Z",
     "start_time": "2023-09-09T22:25:58.171947Z"
    }
   },
   "outputs": [
    {
     "data": {
      "text/plain": [
       "<Axes: >"
      ]
     },
     "execution_count": 34,
     "metadata": {},
     "output_type": "execute_result"
    },
    {
     "data": {
      "image/png": "[encoded data removed]",
      "text/plain": [
       "<Figure size 432x288 with 1 Axes>"
      ]
     },
     "metadata": {
      "needs_background": "light"
     },
     "output_type": "display_data"
    }
   ],
   "source": [
    "losses[[\"loss\",\"val_loss\"]].plot()"
   ]
  },
  {
   "cell_type": "code",
   "execution_count": 35,
   "id": "2c611f93",
   "metadata": {
    "ExecuteTime": {
     "end_time": "2023-09-09T22:26:09.457770Z",
     "start_time": "2023-09-09T22:25:59.710834Z"
    }
   },
   "outputs": [
    {
     "name": "stdout",
     "output_type": "stream",
     "text": [
      "3/3 [==============================] - 9s 2s/step - loss: 0.0599 - accuracy: 0.9750\n"
     ]
    },
    {
     "data": {
      "text/plain": [
       "[0.05985511094331741, 0.9750000238418579]"
      ]
     },
     "execution_count": 35,
     "metadata": {},
     "output_type": "execute_result"
    }
   ],
   "source": [
    "model.evaluate(test_generator)"
   ]
  },
  {
   "cell_type": "code",
   "execution_count": 41,
   "id": "79d870b1",
   "metadata": {
    "ExecuteTime": {
     "end_time": "2023-09-09T22:28:29.918171Z",
     "start_time": "2023-09-09T22:27:21.546998Z"
    }
   },
   "outputs": [
    {
     "name": "stdout",
     "output_type": "stream",
     "text": [
      "10/10 [==============================] - 64s 6s/step - loss: 0.2156 - accuracy: 0.9324\n"
     ]
    },
    {
     "data": {
      "text/plain": [
       "[0.21562545001506805, 0.9324324131011963]"
      ]
     },
     "execution_count": 41,
     "metadata": {},
     "output_type": "execute_result"
    }
   ],
   "source": [
    "model.evaluate(train_gen)"
   ]
  },
  {
   "cell_type": "code",
   "execution_count": 36,
   "id": "348efab2",
   "metadata": {
    "ExecuteTime": {
     "end_time": "2023-09-09T22:26:12.367987Z",
     "start_time": "2023-09-09T22:26:12.349039Z"
    }
   },
   "outputs": [
    {
     "data": {
      "text/plain": [
       "array([0, 0, 0, 0, 0, 0, 0, 0, 0, 0, 0, 0, 0, 0, 0, 0, 0, 0, 0, 0, 1, 1,\n",
       "       1, 1, 1, 1, 1, 1, 1, 1, 1, 1, 1, 1, 1, 1, 1, 1, 1, 1])"
      ]
     },
     "execution_count": 36,
     "metadata": {},
     "output_type": "execute_result"
    }
   ],
   "source": [
    "real= test_generator.classes\n",
    "real"
   ]
  },
  {
   "cell_type": "code",
   "execution_count": 37,
   "id": "3bd7e759",
   "metadata": {
    "ExecuteTime": {
     "end_time": "2023-09-09T22:26:27.385829Z",
     "start_time": "2023-09-09T22:26:13.586730Z"
    }
   },
   "outputs": [
    {
     "data": {
      "text/plain": [
       "array([[False],\n",
       "       [ True],\n",
       "       [False],\n",
       "       [False],\n",
       "       [ True],\n",
       "       [False],\n",
       "       [False],\n",
       "       [False],\n",
       "       [False],\n",
       "       [ True],\n",
       "       [False],\n",
       "       [ True],\n",
       "       [False],\n",
       "       [ True],\n",
       "       [ True],\n",
       "       [False],\n",
       "       [ True],\n",
       "       [ True],\n",
       "       [ True],\n",
       "       [ True],\n",
       "       [ True],\n",
       "       [ True],\n",
       "       [False],\n",
       "       [False],\n",
       "       [ True],\n",
       "       [ True],\n",
       "       [False],\n",
       "       [False],\n",
       "       [ True],\n",
       "       [ True],\n",
       "       [False],\n",
       "       [False],\n",
       "       [False],\n",
       "       [ True],\n",
       "       [False],\n",
       "       [False],\n",
       "       [False],\n",
       "       [False],\n",
       "       [ True],\n",
       "       [ True]])"
      ]
     },
     "execution_count": 37,
     "metadata": {},
     "output_type": "execute_result"
    }
   ],
   "source": [
    "predictions = model.predict_generator(test_generator) > 0.5\n",
    "predictions"
   ]
  },
  {
   "cell_type": "code",
   "execution_count": 39,
   "id": "72197862",
   "metadata": {
    "ExecuteTime": {
     "end_time": "2023-09-09T22:26:40.005085Z",
     "start_time": "2023-09-09T22:26:39.670979Z"
    }
   },
   "outputs": [
    {
     "data": {
      "text/plain": [
       "<Axes: >"
      ]
     },
     "execution_count": 39,
     "metadata": {},
     "output_type": "execute_result"
    },
    {
     "data": {
      "image/png": "[encoded data removed]",
      "text/plain": [
       "<Figure size 432x288 with 2 Axes>"
      ]
     },
     "metadata": {
      "needs_background": "light"
     },
     "output_type": "display_data"
    }
   ],
   "source": [
    "con = confusion_matrix(real,predictions)\n",
    "sns.heatmap(con,cmap=\"coolwarm\",annot=True,fmt=\"d\",linewidths=1,square=True)"
   ]
  },
  {
   "cell_type": "code",
   "execution_count": 40,
   "id": "c3537d39",
   "metadata": {
    "ExecuteTime": {
     "end_time": "2023-09-09T22:26:53.982744Z",
     "start_time": "2023-09-09T22:26:53.952788Z"
    }
   },
   "outputs": [
    {
     "name": "stdout",
     "output_type": "stream",
     "text": [
      "              precision    recall  f1-score   support\n",
      "\n",
      "           0       0.48      0.50      0.49        20\n",
      "           1       0.47      0.45      0.46        20\n",
      "\n",
      "    accuracy                           0.48        40\n",
      "   macro avg       0.47      0.47      0.47        40\n",
      "weighted avg       0.47      0.47      0.47        40\n",
      "\n"
     ]
    }
   ],
   "source": [
    "print(classification_report(real,predictions))"
   ]
  }
 ],
 "metadata": {
  "kernelspec": {
   "display_name": "Python 3 (ipykernel)",
   "language": "python",
   "name": "python3"
  },
  "language_info": {
   "codemirror_mode": {
    "name": "ipython",
    "version": 3
   },
   "file_extension": ".py",
   "mimetype": "text/x-python",
   "name": "python",
   "nbconvert_exporter": "python",
   "pygments_lexer": "ipython3",
   "version": "3.9.7"
  }
 },
 "nbformat": 4,
 "nbformat_minor": 5
}
